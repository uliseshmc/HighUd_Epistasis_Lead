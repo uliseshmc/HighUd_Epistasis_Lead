{
 "cells": [
  {
   "cell_type": "code",
   "execution_count": 2,
   "metadata": {},
   "outputs": [],
   "source": [
    "#libraries\n",
    "import numpy as np\n",
    "from scipy.optimize import fsolve\n",
    "import matplotlib.pyplot as plt\n",
    "from matplotlib.ticker import FixedLocator, FixedFormatter"
   ]
  },
  {
   "cell_type": "code",
   "execution_count": 2,
   "metadata": {},
   "outputs": [],
   "source": [
    "# Set global theme settings for plotting\n",
    "plt.rcParams.update({\n",
    "    'font.size': 20,          # Set font size\n",
    "    'lines.linewidth': 3,     # Set default line thickness\n",
    "    'axes.titlesize': 20,     # Title font size\n",
    "    'axes.labelsize': 18,     # Axis label font size\n",
    "    'xtick.labelsize': 14,    # X-tick label font size\n",
    "    'ytick.labelsize': 14,    # Y-tick label font size\n",
    "    'grid.color': 'gray',     # Grid color\n",
    "    'grid.linestyle': '--',   # Grid line style\n",
    "    'grid.linewidth': 0.5,    # Grid line width\n",
    "    'legend.fontsize': 16     # Legend font size\n",
    "})"
   ]
  },
  {
   "cell_type": "code",
   "execution_count": 40,
   "metadata": {},
   "outputs": [
    {
     "data": {
      "text/plain": [
       "(array([ 1.97335482e+03,  1.29745663e+00, -1.38613137e-04]),\n",
       " {'nfev': 39,\n",
       "  'njev': 2,\n",
       "  'fjac': array([[nan, nan, nan],\n",
       "         [nan, nan, nan],\n",
       "         [nan, nan, nan]]),\n",
       "  'r': array([nan, nan, nan, nan, nan, nan]),\n",
       "  'qtf': array([nan, nan, nan]),\n",
       "  'fvec': array([ 1.66198230e+258, -2.06122009e+219, -3.47255599e+250])},\n",
       " 5,\n",
       " 'The iteration is not making good progress, as measured by the \\n improvement from the last ten iterations.')"
      ]
     },
     "execution_count": 40,
     "metadata": {},
     "output_type": "execute_result"
    }
   ],
   "source": [
    "# define the system of equations between x_mean=w[0], R=w[1], and deltad0=w[2]\n",
    "def nonlinearEquation(w, Ud, s, epsilon):\n",
    "    F=np.zeros(3)\n",
    "    F[0] = w[0]*np.exp(w[0]*(w[1]-1.0)) - Ud/w[2]\n",
    "    F[1] = s + w[2]*w[1]**(w[0])\n",
    "    F[2] = epsilon + w[2]*(w[1]-1.0)*np.exp(w[0]*(w[1]-1.0))\n",
    "    return F\n",
    "\n",
    "# this function returns 3 by 3 matrix defining \n",
    "# the Jacobian matrix of F at the input vector w    \n",
    "def JacobianMatrix(w, Ud, s, epsilon):\n",
    "    JacobianM=np.zeros((3,3))\n",
    "     \n",
    "    JacobianM[0,0] = np.exp(w[0]*(w[1]-1.0))*(1.0+w[0]*(w[1]-1.0))\n",
    "    JacobianM[0,1] = (w[0]**2)*np.exp(w[0]*(w[1]-1.0))\n",
    "    JacobianM[0,2] = -Ud/w[2]**2\n",
    "     \n",
    "    JacobianM[1,0]= w[2]*(w[1]**w[0])*np.log(w[1])\n",
    "    JacobianM[1,1]= w[0]*(w[1]**(w[0]-1.0))*w[2]\n",
    "    JacobianM[1,2]= w[1]**w[0]\n",
    "     \n",
    "    JacobianM[2,0]= ((w[1]-1.0)**2)*w[2]*np.exp(w[0]*(w[1]-1.0))\n",
    "    JacobianM[2,1]= w[2]*np.exp(w[0]*(w[1]-1.0))*(w[1]*(w[1]-1.0) + 1.0)\n",
    "    JacobianM[2,2]= (w[1]-1)*np.exp(w[0]*(w[1]-1.0))\n",
    "     \n",
    "    return JacobianM\n",
    "\n",
    "#simulation parameters\n",
    "Ud = 2.0\n",
    "s = -0.001\n",
    "epsilon = -0.001\n",
    "\n",
    "params = (Ud, s, epsilon) \n",
    "\n",
    "# generate an initial guess for x_mean, R and deltad0\n",
    "#Our guess is the case with multiplicative fitness x_mean=Ud/abs(s), R=1.0001 and deltad0 = abs(s)\n",
    "initial_guess=(Ud/np.abs(s), 1.3, np.abs(s))    \n",
    "\n",
    "# Solve the system\n",
    "fsolve(nonlinearEquation, initial_guess, params, fprime=JacobianMatrix, full_output=1)"
   ]
  },
  {
   "cell_type": "code",
   "execution_count": 42,
   "metadata": {},
   "outputs": [
    {
     "data": {
      "text/plain": [
       "(array([2.36677535e+03, 1.23881541e+00]),\n",
       " {'nfev': 41,\n",
       "  'fjac': array([[nan, nan],\n",
       "         [nan, nan]]),\n",
       "  'r': array([nan, nan, nan]),\n",
       "  'qtf': array([nan, nan]),\n",
       "  'fvec': array([7.03297998e+248, 5.31272314e+021])},\n",
       " 5,\n",
       " 'The iteration is not making good progress, as measured by the \\n improvement from the last ten iterations.')"
      ]
     },
     "execution_count": 42,
     "metadata": {},
     "output_type": "execute_result"
    }
   ],
   "source": [
    "# define the system of equations between x_mean=w[0], R=w[1], and deltad0=w[2]\n",
    "def systemforlead(vars, Ud, sd, epsilon):\n",
    "    x_mean, Repis = vars\n",
    "    return [\n",
    "        x_mean*np.exp(x_mean*(Repis-1.0)) + (Repis**x_mean)*Ud/sd,\n",
    "        epsilon - (sd/Repis**x_mean)*(Repis-1.0)*np.exp(x_mean*(Repis-1.0))\n",
    "    ]\n",
    "\n",
    "#simulation parameters\n",
    "Ud = 2.0\n",
    "sd = -0.001\n",
    "epsilon = -0.01\n",
    "\n",
    "params = (Ud, sd, epsilon) \n",
    "\n",
    "# generate an initial guess for x_mean, R and deltad0\n",
    "#Our guess is the case with multiplicative fitness x_mean=Ud/abs(s), R=1.0001 and deltad0 = abs(s)\n",
    "initial_guess=(Ud/np.abs(sd), 1.3)    \n",
    "\n",
    "# Solve the system\n",
    "fsolve(systemforlead, initial_guess, params, full_output=1)\n"
   ]
  },
  {
   "cell_type": "code",
   "execution_count": 3,
   "metadata": {},
   "outputs": [],
   "source": [
    "# define the system of equations between x_mean=w[0], R=w[1], and deltad0=w[2]\n",
    "def systemforlead(w, Ud, s, epsilon):\n",
    "    F=np.zeros(3)\n",
    "    F[0]= w[0]*np.exp(w[0]*(w[1]-1)) - Ud/w[2]\n",
    "    F[1]= s + w[2]*w[1]**(w[0])\n",
    "    F[2]= epsilon + w[2]*(w[1]-1)*np.exp(w[0]*(w[1]-1))\n",
    "    return F"
   ]
  },
  {
   "cell_type": "code",
   "execution_count": 4,
   "metadata": {},
   "outputs": [],
   "source": [
    "#simulation parameters\n",
    "Ud = 2.0\n",
    "s = -0.001\n",
    "epsilon = -0.01"
   ]
  },
  {
   "cell_type": "code",
   "execution_count": 5,
   "metadata": {},
   "outputs": [
    {
     "ename": "TypeError",
     "evalue": "systemforlead() missing 3 required positional arguments: 'Ud', 's', and 'epsilon'",
     "output_type": "error",
     "traceback": [
      "\u001b[0;31m---------------------------------------------------------------------------\u001b[0m",
      "\u001b[0;31mTypeError\u001b[0m                                 Traceback (most recent call last)",
      "Cell \u001b[0;32mIn[5], line 6\u001b[0m\n\u001b[1;32m      3\u001b[0m initialGuess\u001b[38;5;241m=\u001b[39m(Ud\u001b[38;5;241m/\u001b[39mnp\u001b[38;5;241m.\u001b[39mabs(s), \u001b[38;5;241m1.0\u001b[39m, np\u001b[38;5;241m.\u001b[39mabs(s))    \n\u001b[1;32m      5\u001b[0m \u001b[38;5;66;03m# solve the problem    \u001b[39;00m\n\u001b[0;32m----> 6\u001b[0m solutionInfo\u001b[38;5;241m=\u001b[39m\u001b[43mfsolve\u001b[49m\u001b[43m(\u001b[49m\u001b[43msystemforlead\u001b[49m\u001b[43m,\u001b[49m\u001b[43minitialGuess\u001b[49m\u001b[43m,\u001b[49m\u001b[43mfull_output\u001b[49m\u001b[38;5;241;43m=\u001b[39;49m\u001b[38;5;241;43m1\u001b[39;49m\u001b[43m)\u001b[49m\n",
      "File \u001b[0;32m~/miniforge3/envs/HigUd_Epis_Lead/lib/python3.13/site-packages/scipy/optimize/_minpack_py.py:170\u001b[0m, in \u001b[0;36mfsolve\u001b[0;34m(func, x0, args, fprime, full_output, col_deriv, xtol, maxfev, band, epsfcn, factor, diag)\u001b[0m\n\u001b[1;32m    160\u001b[0m _wrapped_func\u001b[38;5;241m.\u001b[39mnfev \u001b[38;5;241m=\u001b[39m \u001b[38;5;241m0\u001b[39m\n\u001b[1;32m    162\u001b[0m options \u001b[38;5;241m=\u001b[39m {\u001b[38;5;124m'\u001b[39m\u001b[38;5;124mcol_deriv\u001b[39m\u001b[38;5;124m'\u001b[39m: col_deriv,\n\u001b[1;32m    163\u001b[0m            \u001b[38;5;124m'\u001b[39m\u001b[38;5;124mxtol\u001b[39m\u001b[38;5;124m'\u001b[39m: xtol,\n\u001b[1;32m    164\u001b[0m            \u001b[38;5;124m'\u001b[39m\u001b[38;5;124mmaxfev\u001b[39m\u001b[38;5;124m'\u001b[39m: maxfev,\n\u001b[0;32m   (...)\u001b[0m\n\u001b[1;32m    167\u001b[0m            \u001b[38;5;124m'\u001b[39m\u001b[38;5;124mfactor\u001b[39m\u001b[38;5;124m'\u001b[39m: factor,\n\u001b[1;32m    168\u001b[0m            \u001b[38;5;124m'\u001b[39m\u001b[38;5;124mdiag\u001b[39m\u001b[38;5;124m'\u001b[39m: diag}\n\u001b[0;32m--> 170\u001b[0m res \u001b[38;5;241m=\u001b[39m \u001b[43m_root_hybr\u001b[49m\u001b[43m(\u001b[49m\u001b[43m_wrapped_func\u001b[49m\u001b[43m,\u001b[49m\u001b[43m \u001b[49m\u001b[43mx0\u001b[49m\u001b[43m,\u001b[49m\u001b[43m \u001b[49m\u001b[43margs\u001b[49m\u001b[43m,\u001b[49m\u001b[43m \u001b[49m\u001b[43mjac\u001b[49m\u001b[38;5;241;43m=\u001b[39;49m\u001b[43mfprime\u001b[49m\u001b[43m,\u001b[49m\u001b[43m \u001b[49m\u001b[38;5;241;43m*\u001b[39;49m\u001b[38;5;241;43m*\u001b[39;49m\u001b[43moptions\u001b[49m\u001b[43m)\u001b[49m\n\u001b[1;32m    171\u001b[0m res\u001b[38;5;241m.\u001b[39mnfev \u001b[38;5;241m=\u001b[39m _wrapped_func\u001b[38;5;241m.\u001b[39mnfev\n\u001b[1;32m    173\u001b[0m \u001b[38;5;28;01mif\u001b[39;00m full_output:\n",
      "File \u001b[0;32m~/miniforge3/envs/HigUd_Epis_Lead/lib/python3.13/site-packages/scipy/optimize/_minpack_py.py:238\u001b[0m, in \u001b[0;36m_root_hybr\u001b[0;34m(func, x0, args, jac, col_deriv, xtol, maxfev, band, eps, factor, diag, **unknown_options)\u001b[0m\n\u001b[1;32m    236\u001b[0m \u001b[38;5;28;01mif\u001b[39;00m \u001b[38;5;129;01mnot\u001b[39;00m \u001b[38;5;28misinstance\u001b[39m(args, \u001b[38;5;28mtuple\u001b[39m):\n\u001b[1;32m    237\u001b[0m     args \u001b[38;5;241m=\u001b[39m (args,)\n\u001b[0;32m--> 238\u001b[0m shape, dtype \u001b[38;5;241m=\u001b[39m \u001b[43m_check_func\u001b[49m\u001b[43m(\u001b[49m\u001b[38;5;124;43m'\u001b[39;49m\u001b[38;5;124;43mfsolve\u001b[39;49m\u001b[38;5;124;43m'\u001b[39;49m\u001b[43m,\u001b[49m\u001b[43m \u001b[49m\u001b[38;5;124;43m'\u001b[39;49m\u001b[38;5;124;43mfunc\u001b[39;49m\u001b[38;5;124;43m'\u001b[39;49m\u001b[43m,\u001b[49m\u001b[43m \u001b[49m\u001b[43mfunc\u001b[49m\u001b[43m,\u001b[49m\u001b[43m \u001b[49m\u001b[43mx0\u001b[49m\u001b[43m,\u001b[49m\u001b[43m \u001b[49m\u001b[43margs\u001b[49m\u001b[43m,\u001b[49m\u001b[43m \u001b[49m\u001b[43mn\u001b[49m\u001b[43m,\u001b[49m\u001b[43m \u001b[49m\u001b[43m(\u001b[49m\u001b[43mn\u001b[49m\u001b[43m,\u001b[49m\u001b[43m)\u001b[49m\u001b[43m)\u001b[49m\n\u001b[1;32m    239\u001b[0m \u001b[38;5;28;01mif\u001b[39;00m epsfcn \u001b[38;5;129;01mis\u001b[39;00m \u001b[38;5;28;01mNone\u001b[39;00m:\n\u001b[1;32m    240\u001b[0m     epsfcn \u001b[38;5;241m=\u001b[39m finfo(dtype)\u001b[38;5;241m.\u001b[39meps\n",
      "File \u001b[0;32m~/miniforge3/envs/HigUd_Epis_Lead/lib/python3.13/site-packages/scipy/optimize/_minpack_py.py:23\u001b[0m, in \u001b[0;36m_check_func\u001b[0;34m(checker, argname, thefunc, x0, args, numinputs, output_shape)\u001b[0m\n\u001b[1;32m     21\u001b[0m \u001b[38;5;28;01mdef\u001b[39;00m\u001b[38;5;250m \u001b[39m\u001b[38;5;21m_check_func\u001b[39m(checker, argname, thefunc, x0, args, numinputs,\n\u001b[1;32m     22\u001b[0m                 output_shape\u001b[38;5;241m=\u001b[39m\u001b[38;5;28;01mNone\u001b[39;00m):\n\u001b[0;32m---> 23\u001b[0m     res \u001b[38;5;241m=\u001b[39m atleast_1d(\u001b[43mthefunc\u001b[49m\u001b[43m(\u001b[49m\u001b[38;5;241;43m*\u001b[39;49m\u001b[43m(\u001b[49m\u001b[43m(\u001b[49m\u001b[43mx0\u001b[49m\u001b[43m[\u001b[49m\u001b[43m:\u001b[49m\u001b[43mnuminputs\u001b[49m\u001b[43m]\u001b[49m\u001b[43m,\u001b[49m\u001b[43m)\u001b[49m\u001b[43m \u001b[49m\u001b[38;5;241;43m+\u001b[39;49m\u001b[43m \u001b[49m\u001b[43margs\u001b[49m\u001b[43m)\u001b[49m\u001b[43m)\u001b[49m)\n\u001b[1;32m     24\u001b[0m     \u001b[38;5;28;01mif\u001b[39;00m (output_shape \u001b[38;5;129;01mis\u001b[39;00m \u001b[38;5;129;01mnot\u001b[39;00m \u001b[38;5;28;01mNone\u001b[39;00m) \u001b[38;5;129;01mand\u001b[39;00m (shape(res) \u001b[38;5;241m!=\u001b[39m output_shape):\n\u001b[1;32m     25\u001b[0m         \u001b[38;5;28;01mif\u001b[39;00m (output_shape[\u001b[38;5;241m0\u001b[39m] \u001b[38;5;241m!=\u001b[39m \u001b[38;5;241m1\u001b[39m):\n",
      "File \u001b[0;32m~/miniforge3/envs/HigUd_Epis_Lead/lib/python3.13/site-packages/scipy/optimize/_minpack_py.py:158\u001b[0m, in \u001b[0;36mfsolve.<locals>._wrapped_func\u001b[0;34m(*fargs)\u001b[0m\n\u001b[1;32m    153\u001b[0m \u001b[38;5;250m\u001b[39m\u001b[38;5;124;03m\"\"\"\u001b[39;00m\n\u001b[1;32m    154\u001b[0m \u001b[38;5;124;03mWrapped `func` to track the number of times\u001b[39;00m\n\u001b[1;32m    155\u001b[0m \u001b[38;5;124;03mthe function has been called.\u001b[39;00m\n\u001b[1;32m    156\u001b[0m \u001b[38;5;124;03m\"\"\"\u001b[39;00m\n\u001b[1;32m    157\u001b[0m _wrapped_func\u001b[38;5;241m.\u001b[39mnfev \u001b[38;5;241m+\u001b[39m\u001b[38;5;241m=\u001b[39m \u001b[38;5;241m1\u001b[39m\n\u001b[0;32m--> 158\u001b[0m \u001b[38;5;28;01mreturn\u001b[39;00m \u001b[43mfunc\u001b[49m\u001b[43m(\u001b[49m\u001b[38;5;241;43m*\u001b[39;49m\u001b[43mfargs\u001b[49m\u001b[43m)\u001b[49m\n",
      "\u001b[0;31mTypeError\u001b[0m: systemforlead() missing 3 required positional arguments: 'Ud', 's', and 'epsilon'"
     ]
    }
   ],
   "source": [
    "# generate an initial guess for x_mean, R and deltad0\n",
    "#Our guess is the case with multiplicative fitness x_mean=Ud/s, R=1 and deltad0 = s\n",
    "initialGuess=(Ud/np.abs(s), 1.0, np.abs(s))    \n",
    " \n",
    "# solve the problem    \n",
    "solutionInfo=fsolve(systemforlead,initialGuess,full_output=1)"
   ]
  }
 ],
 "metadata": {
  "kernelspec": {
   "display_name": "HigUd_Epis_Lead",
   "language": "python",
   "name": "python3"
  },
  "language_info": {
   "codemirror_mode": {
    "name": "ipython",
    "version": 3
   },
   "file_extension": ".py",
   "mimetype": "text/x-python",
   "name": "python",
   "nbconvert_exporter": "python",
   "pygments_lexer": "ipython3",
   "version": "3.13.1"
  }
 },
 "nbformat": 4,
 "nbformat_minor": 2
}
